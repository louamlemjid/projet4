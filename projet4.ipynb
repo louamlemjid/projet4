{
 "cells": [
  {
   "cell_type": "markdown",
   "id": "e0ec67b5",
   "metadata": {},
   "source": [
    "google eearth engine"
   ]
  },
  {
   "cell_type": "code",
   "execution_count": 18,
   "id": "aa85fd04",
   "metadata": {},
   "outputs": [
    {
     "name": "stdout",
     "output_type": "stream",
     "text": [
      "✅ SERVICE_GOOGLE found: sincere-sun-404310-1223ed4b5b60.json\n",
      "Mean elevation (Tunisia): {'elevation': 151}\n"
     ]
    }
   ],
   "source": [
    "import os\n",
    "from dotenv import load_dotenv,find_dotenv\n",
    "import ee\n",
    "\n",
    "# Make sure it loads .env from the correct folder\n",
    "env_path = find_dotenv()\n",
    "load_dotenv(dotenv_path=env_path)\n",
    "\n",
    "SERVICE_GOOGLE = os.getenv(\"SERVICE_GOOGLE\")\n",
    "\n",
    "if not SERVICE_GOOGLE:\n",
    "    raise ValueError(\"❌ SERVICE_GOOGLE not found. Check .env file path or notebook directory.\")\n",
    "\n",
    "print(\"✅ SERVICE_GOOGLE found:\", SERVICE_GOOGLE)\n",
    "\n",
    "# Initialize Earth Engine\n",
    "credentials = ee.ServiceAccountCredentials(None, SERVICE_GOOGLE)\n",
    "ee.Initialize(credentials)\n",
    "\n",
    "# Test GEE\n",
    "image = ee.Image('CGIAR/SRTM90_V4')\n",
    "stats = image.reduceRegion(\n",
    "    reducer=ee.Reducer.mean(),\n",
    "    geometry=ee.Geometry.Point([10.0, 36.0]),  # Tunisia example\n",
    "    scale=90\n",
    ")\n",
    "print(\"Mean elevation (Tunisia):\", stats.getInfo())\n"
   ]
  }
 ],
 "metadata": {
  "kernelspec": {
   "display_name": "Python 3",
   "language": "python",
   "name": "python3"
  },
  "language_info": {
   "codemirror_mode": {
    "name": "ipython",
    "version": 3
   },
   "file_extension": ".py",
   "mimetype": "text/x-python",
   "name": "python",
   "nbconvert_exporter": "python",
   "pygments_lexer": "ipython3",
   "version": "3.10.12"
  }
 },
 "nbformat": 4,
 "nbformat_minor": 5
}
