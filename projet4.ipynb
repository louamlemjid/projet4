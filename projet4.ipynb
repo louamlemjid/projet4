{
 "cells": [
  {
   "cell_type": "markdown",
   "id": "e0ec67b5",
   "metadata": {},
   "source": [
    "google eearth engine"
   ]
  },
  {
   "cell_type": "code",
   "execution_count": 4,
   "id": "aa85fd04",
   "metadata": {},
   "outputs": [
    {
     "name": "stdout",
     "output_type": "stream",
     "text": [
      "✅ SERVICE_GOOGLE found: sincere-sun-404310-1223ed4b5b60.json\n"
     ]
    },
    {
     "data": {
      "text/html": [
       "<p>To authorize access needed by Earth Engine, open the following\n",
       "        URL in a web browser and follow the instructions:</p>\n",
       "        <p><a href=https://code.earthengine.google.com/client-auth?scopes=https%3A//www.googleapis.com/auth/earthengine%20https%3A//www.googleapis.com/auth/cloud-platform%20https%3A//www.googleapis.com/auth/devstorage.full_control&request_id=tHknjV3kymgj1HzY2yAEgPRdM-Nr56l8e1Y1c4DIbEk&tc=yk70lw4BzZ1vbmlFymg2BXhVBE1x2YIf0YbbQ0chAM4&cc=LlSK1ynlbAocieAY91mATbOtinPAHpzsdvYzyjmVM1Q>https://code.earthengine.google.com/client-auth?scopes=https%3A//www.googleapis.com/auth/earthengine%20https%3A//www.googleapis.com/auth/cloud-platform%20https%3A//www.googleapis.com/auth/devstorage.full_control&request_id=tHknjV3kymgj1HzY2yAEgPRdM-Nr56l8e1Y1c4DIbEk&tc=yk70lw4BzZ1vbmlFymg2BXhVBE1x2YIf0YbbQ0chAM4&cc=LlSK1ynlbAocieAY91mATbOtinPAHpzsdvYzyjmVM1Q</a></p>\n",
       "        <p>The authorization workflow will generate a code, which you should paste in the box below.</p>\n",
       "        "
      ],
      "text/plain": [
       "<IPython.core.display.HTML object>"
      ]
     },
     "metadata": {},
     "output_type": "display_data"
    },
    {
     "ename": "EEException",
     "evalue": "Cannot authenticate: Invalid request.",
     "output_type": "error",
     "traceback": [
      "\u001b[31m---------------------------------------------------------------------------\u001b[39m",
      "\u001b[31mEEException\u001b[39m                               Traceback (most recent call last)",
      "\u001b[36mCell\u001b[39m\u001b[36m \u001b[39m\u001b[32mIn[4]\u001b[39m\u001b[32m, line 18\u001b[39m\n\u001b[32m     16\u001b[39m \u001b[38;5;66;03m# Initialize Earth Engine\u001b[39;00m\n\u001b[32m     17\u001b[39m credentials = ee.ServiceAccountCredentials(\u001b[38;5;28;01mNone\u001b[39;00m, SERVICE_GOOGLE)\n\u001b[32m---> \u001b[39m\u001b[32m18\u001b[39m \u001b[43mee\u001b[49m\u001b[43m.\u001b[49m\u001b[43mAuthenticate\u001b[49m\u001b[43m(\u001b[49m\u001b[43m)\u001b[49m\n\u001b[32m     19\u001b[39m ee.Initialize(credentials)\n\u001b[32m     21\u001b[39m \u001b[38;5;66;03m# Test GEE\u001b[39;00m\n",
      "\u001b[36mFile \u001b[39m\u001b[32mc:\\Users\\benr5\\AppData\\Local\\conda\\conda\\envs\\projetagriculture\\Lib\\site-packages\\ee\\__init__.py:156\u001b[39m, in \u001b[36mAuthenticate\u001b[39m\u001b[34m(authorization_code, quiet, code_verifier, auth_mode, scopes, force)\u001b[39m\n\u001b[32m    125\u001b[39m \u001b[38;5;28;01mdef\u001b[39;00m\u001b[38;5;250m \u001b[39m\u001b[34mAuthenticate\u001b[39m(\n\u001b[32m    126\u001b[39m     authorization_code: Optional[\u001b[38;5;28mstr\u001b[39m] = \u001b[38;5;28;01mNone\u001b[39;00m,\n\u001b[32m    127\u001b[39m     quiet: Optional[\u001b[38;5;28mbool\u001b[39m] = \u001b[38;5;28;01mNone\u001b[39;00m,\n\u001b[32m   (...)\u001b[39m\u001b[32m    131\u001b[39m     force: \u001b[38;5;28mbool\u001b[39m = \u001b[38;5;28;01mFalse\u001b[39;00m,\n\u001b[32m    132\u001b[39m ) -> Optional[\u001b[38;5;28mbool\u001b[39m]:\n\u001b[32m    133\u001b[39m \u001b[38;5;250m  \u001b[39m\u001b[33;03m\"\"\"Prompts the user to authorize access to Earth Engine via OAuth2.\u001b[39;00m\n\u001b[32m    134\u001b[39m \n\u001b[32m    135\u001b[39m \u001b[33;03m  Args:\u001b[39;00m\n\u001b[32m   (...)\u001b[39m\u001b[32m    154\u001b[39m \u001b[33;03m    True if we found valid credentials and didn't run the auth flow.\u001b[39;00m\n\u001b[32m    155\u001b[39m \u001b[33;03m  \"\"\"\u001b[39;00m\n\u001b[32m--> \u001b[39m\u001b[32m156\u001b[39m   \u001b[38;5;28;01mreturn\u001b[39;00m \u001b[43moauth\u001b[49m\u001b[43m.\u001b[49m\u001b[43mauthenticate\u001b[49m\u001b[43m(\u001b[49m\u001b[43mauthorization_code\u001b[49m\u001b[43m,\u001b[49m\u001b[43m \u001b[49m\u001b[43mquiet\u001b[49m\u001b[43m,\u001b[49m\u001b[43m \u001b[49m\u001b[43mcode_verifier\u001b[49m\u001b[43m,\u001b[49m\u001b[43m \u001b[49m\u001b[43mauth_mode\u001b[49m\u001b[43m,\u001b[49m\n\u001b[32m    157\u001b[39m \u001b[43m                            \u001b[49m\u001b[43mscopes\u001b[49m\u001b[43m,\u001b[49m\u001b[43m \u001b[49m\u001b[43mforce\u001b[49m\u001b[43m)\u001b[49m\n",
      "\u001b[36mFile \u001b[39m\u001b[32mc:\\Users\\benr5\\AppData\\Local\\conda\\conda\\envs\\projetagriculture\\Lib\\site-packages\\ee\\oauth.py:538\u001b[39m, in \u001b[36mauthenticate\u001b[39m\u001b[34m(cli_authorization_code, quiet, cli_code_verifier, auth_mode, scopes, force)\u001b[39m\n\u001b[32m    535\u001b[39m \u001b[38;5;28;01mif\u001b[39;00m flow.display_instructions(quiet):\n\u001b[32m    536\u001b[39m   _open_new_browser(flow.auth_url)\n\u001b[32m--> \u001b[39m\u001b[32m538\u001b[39m \u001b[43mflow\u001b[49m\u001b[43m.\u001b[49m\u001b[43msave_code\u001b[49m\u001b[43m(\u001b[49m\u001b[43m)\u001b[49m\n",
      "\u001b[36mFile \u001b[39m\u001b[32mc:\\Users\\benr5\\AppData\\Local\\conda\\conda\\envs\\projetagriculture\\Lib\\site-packages\\ee\\oauth.py:588\u001b[39m, in \u001b[36mFlow.save_code\u001b[39m\u001b[34m(self, code)\u001b[39m\n\u001b[32m    586\u001b[39m   redirect_uri = \u001b[38;5;28mself\u001b[39m.server.url\n\u001b[32m    587\u001b[39m   code = \u001b[38;5;28mself\u001b[39m.server.fetch_code()  \u001b[38;5;66;03m# Waits for oauth callback\u001b[39;00m\n\u001b[32m--> \u001b[39m\u001b[32m588\u001b[39m \u001b[43m_obtain_and_write_token\u001b[49m\u001b[43m(\u001b[49m\u001b[43mcode\u001b[49m\u001b[43m,\u001b[49m\u001b[43m \u001b[49m\u001b[38;5;28;43mself\u001b[39;49m\u001b[43m.\u001b[49m\u001b[43mcode_verifier\u001b[49m\u001b[43m,\u001b[49m\u001b[43m \u001b[49m\u001b[38;5;28;43mself\u001b[39;49m\u001b[43m.\u001b[49m\u001b[43mscopes\u001b[49m\u001b[43m,\u001b[49m\u001b[43m \u001b[49m\u001b[43mredirect_uri\u001b[49m\u001b[43m)\u001b[49m\n",
      "\u001b[36mFile \u001b[39m\u001b[32mc:\\Users\\benr5\\AppData\\Local\\conda\\conda\\envs\\projetagriculture\\Lib\\site-packages\\ee\\oauth.py:262\u001b[39m, in \u001b[36m_obtain_and_write_token\u001b[39m\u001b[34m(auth_code, code_verifier, scopes, redirect_uri)\u001b[39m\n\u001b[32m    259\u001b[39m fetched_info = json.loads(\n\u001b[32m    260\u001b[39m     urllib.request.urlopen(fetch_client).read().decode())\n\u001b[32m    261\u001b[39m \u001b[38;5;28;01mif\u001b[39;00m \u001b[33m'\u001b[39m\u001b[33merror\u001b[39m\u001b[33m'\u001b[39m \u001b[38;5;129;01min\u001b[39;00m fetched_info:\n\u001b[32m--> \u001b[39m\u001b[32m262\u001b[39m   \u001b[38;5;28;01mraise\u001b[39;00m ee_exception.EEException(\n\u001b[32m    263\u001b[39m       \u001b[33m'\u001b[39m\u001b[33mCannot authenticate: \u001b[39m\u001b[38;5;132;01m%s\u001b[39;00m\u001b[33m'\u001b[39m % fetched_info[\u001b[33m'\u001b[39m\u001b[33merror\u001b[39m\u001b[33m'\u001b[39m]\n\u001b[32m    264\u001b[39m   )\n\u001b[32m    265\u001b[39m client_info = {k: fetched_info[k] \u001b[38;5;28;01mfor\u001b[39;00m k \u001b[38;5;129;01min\u001b[39;00m [\u001b[33m'\u001b[39m\u001b[33mclient_id\u001b[39m\u001b[33m'\u001b[39m, \u001b[33m'\u001b[39m\u001b[33mclient_secret\u001b[39m\u001b[33m'\u001b[39m]}\n\u001b[32m    266\u001b[39m scopes = fetched_info.get(\u001b[33m'\u001b[39m\u001b[33mscopes\u001b[39m\u001b[33m'\u001b[39m) \u001b[38;5;129;01mor\u001b[39;00m scopes\n",
      "\u001b[31mEEException\u001b[39m: Cannot authenticate: Invalid request."
     ]
    }
   ],
   "source": [
    "import os\n",
    "from dotenv import load_dotenv,find_dotenv\n",
    "import ee\n",
    "\n",
    "# Make sure it loads .env from the correct folder\n",
    "env_path = find_dotenv()\n",
    "load_dotenv(dotenv_path=env_path)\n",
    "\n",
    "SERVICE_GOOGLE = os.getenv(\"SERVICE_GOOGLE\")\n",
    "\n",
    "if not SERVICE_GOOGLE:\n",
    "    raise ValueError(\"❌ SERVICE_GOOGLE not found. Check .env file path or notebook directory.\")\n",
    "\n",
    "print(\"✅ SERVICE_GOOGLE found:\", SERVICE_GOOGLE)\n",
    "\n",
    "# Initialize Earth Engine\n",
    "credentials = ee.ServiceAccountCredentials(None, SERVICE_GOOGLE)\n",
    "ee.Authenticate()\n",
    "ee.Initialize(credentials)\n",
    "\n",
    "# Test GEE\n",
    "image = ee.Image('CGIAR/SRTM90_V4')\n",
    "stats = image.reduceRegion(\n",
    "    reducer=ee.Reducer.mean(),\n",
    "    geometry=ee.Geometry.Point([10.0, 36.0]),  # Tunisia example\n",
    "    scale=90\n",
    ")\n",
    "print(\"Mean elevation (Tunisia):\", stats.getInfo())\n"
   ]
  }
 ],
 "metadata": {
  "kernelspec": {
   "display_name": "projetagriculture",
   "language": "python",
   "name": "python3"
  },
  "language_info": {
   "codemirror_mode": {
    "name": "ipython",
    "version": 3
   },
   "file_extension": ".py",
   "mimetype": "text/x-python",
   "name": "python",
   "nbconvert_exporter": "python",
   "pygments_lexer": "ipython3",
   "version": "3.14.0"
  }
 },
 "nbformat": 4,
 "nbformat_minor": 5
}
