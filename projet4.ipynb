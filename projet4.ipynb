{
 "cells": [
  {
   "cell_type": "markdown",
   "id": "e0ec67b5",
   "metadata": {},
   "source": [
    "google eearth engine"
   ]
  },
  {
   "cell_type": "code",
   "execution_count": 1,
   "id": "aa85fd04",
   "metadata": {},
   "outputs": [
    {
     "name": "stdout",
     "output_type": "stream",
     "text": [
      "Mean elevation (Tunisia): {'elevation': 151}\n"
     ]
    }
   ],
   "source": [
    "import ee\n",
    "\n",
    "# Path to your service account JSON key\n",
    "SERVICE_ACCOUNT = 'sincere-sun-404310-1223ed4b5b60.json'\n",
    "\n",
    "# Initialize Earth Engine with the service account\n",
    "credentials = ee.ServiceAccountCredentials(None, SERVICE_ACCOUNT)\n",
    "ee.Initialize(credentials)\n",
    "\n",
    "# Test Earth Engine\n",
    "image = ee.Image('CGIAR/SRTM90_V4')\n",
    "stats = image.reduceRegion(\n",
    "    reducer=ee.Reducer.mean(),\n",
    "    geometry=ee.Geometry.Point([10.0, 36.0]),  # Example: Tunisia\n",
    "    scale=90\n",
    ")\n",
    "\n",
    "print(\"Mean elevation (Tunisia):\", stats.getInfo())\n"
   ]
  }
 ],
 "metadata": {
  "kernelspec": {
   "display_name": "Python 3",
   "language": "python",
   "name": "python3"
  },
  "language_info": {
   "codemirror_mode": {
    "name": "ipython",
    "version": 3
   },
   "file_extension": ".py",
   "mimetype": "text/x-python",
   "name": "python",
   "nbconvert_exporter": "python",
   "pygments_lexer": "ipython3",
   "version": "3.10.12"
  }
 },
 "nbformat": 4,
 "nbformat_minor": 5
}
